{
  "cells": [
    {
      "cell_type": "markdown",
      "metadata": {
        "id": "view-in-github",
        "colab_type": "text"
      },
      "source": [
        "<a href=\"https://colab.research.google.com/github/triciachan/123/blob/main/Week_11_CO2_Emission_by_CAR.ipynb\" target=\"_parent\"><img src=\"https://colab.research.google.com/assets/colab-badge.svg\" alt=\"Open In Colab\"/></a>"
      ]
    },
    {
      "cell_type": "markdown",
      "metadata": {
        "id": "4WMia2yIFqAt"
      },
      "source": [
        "# ML Modeling, Linear Model\n",
        "Goal\n",
        "---\n",
        "1. scikit-learning Introduction\n",
        "2. CO2 emisssion \n",
        "\n",
        "Reference\n",
        "---\n",
        "1. [src](https://medium.com/joguei-os-dados/week-3-predicting-co2-emissions-70e554ad2276)\n",
        "2. [Dataset, Kaggle](https://www.kaggle.com/gangliu/oc2emission/tasks), dataset contains information of CO2 emission from cars."
      ]
    },
    {
      "cell_type": "markdown",
      "metadata": {
        "id": "1-aR2_qTFqAx"
      },
      "source": [
        "Questions\n",
        "---\n",
        "1. what is the correlation between the engine motor of the car and its CO2 emission? \n",
        "2. Is it possible to create a model that predicts the amount of polution on future motors? How and Why?"
      ]
    },
    {
      "cell_type": "code",
      "source": [
        "pip install streamlit\n"
      ],
      "metadata": {
        "colab": {
          "base_uri": "https://localhost:8080/"
        },
        "id": "r1LlX5fBuVj0",
        "outputId": "33115225-f277-4897-fb5e-a59c5231e91f"
      },
      "execution_count": null,
      "outputs": [
        {
          "output_type": "stream",
          "name": "stdout",
          "text": [
            "Looking in indexes: https://pypi.org/simple, https://us-python.pkg.dev/colab-wheels/public/simple/\n",
            "Requirement already satisfied: streamlit in /usr/local/lib/python3.10/dist-packages (1.22.0)\n",
            "Requirement already satisfied: altair<5,>=3.2.0 in /usr/local/lib/python3.10/dist-packages (from streamlit) (4.2.2)\n",
            "Requirement already satisfied: blinker>=1.0.0 in /usr/local/lib/python3.10/dist-packages (from streamlit) (1.6.2)\n",
            "Requirement already satisfied: cachetools>=4.0 in /usr/local/lib/python3.10/dist-packages (from streamlit) (5.3.0)\n",
            "Requirement already satisfied: click>=7.0 in /usr/local/lib/python3.10/dist-packages (from streamlit) (8.1.3)\n",
            "Requirement already satisfied: importlib-metadata>=1.4 in /usr/local/lib/python3.10/dist-packages (from streamlit) (6.6.0)\n",
            "Requirement already satisfied: numpy in /usr/local/lib/python3.10/dist-packages (from streamlit) (1.22.4)\n",
            "Requirement already satisfied: packaging>=14.1 in /usr/local/lib/python3.10/dist-packages (from streamlit) (23.1)\n",
            "Requirement already satisfied: pandas<3,>=0.25 in /usr/local/lib/python3.10/dist-packages (from streamlit) (1.5.3)\n",
            "Requirement already satisfied: pillow>=6.2.0 in /usr/local/lib/python3.10/dist-packages (from streamlit) (8.4.0)\n",
            "Requirement already satisfied: protobuf<4,>=3.12 in /usr/local/lib/python3.10/dist-packages (from streamlit) (3.20.3)\n",
            "Requirement already satisfied: pyarrow>=4.0 in /usr/local/lib/python3.10/dist-packages (from streamlit) (9.0.0)\n",
            "Requirement already satisfied: pympler>=0.9 in /usr/local/lib/python3.10/dist-packages (from streamlit) (1.0.1)\n",
            "Requirement already satisfied: python-dateutil in /usr/local/lib/python3.10/dist-packages (from streamlit) (2.8.2)\n",
            "Requirement already satisfied: requests>=2.4 in /usr/local/lib/python3.10/dist-packages (from streamlit) (2.27.1)\n",
            "Requirement already satisfied: rich>=10.11.0 in /usr/local/lib/python3.10/dist-packages (from streamlit) (13.3.4)\n",
            "Requirement already satisfied: tenacity<9,>=8.0.0 in /usr/local/lib/python3.10/dist-packages (from streamlit) (8.2.2)\n",
            "Requirement already satisfied: toml in /usr/local/lib/python3.10/dist-packages (from streamlit) (0.10.2)\n",
            "Requirement already satisfied: typing-extensions>=3.10.0.0 in /usr/local/lib/python3.10/dist-packages (from streamlit) (4.5.0)\n",
            "Requirement already satisfied: tzlocal>=1.1 in /usr/local/lib/python3.10/dist-packages (from streamlit) (4.3)\n",
            "Requirement already satisfied: validators>=0.2 in /usr/local/lib/python3.10/dist-packages (from streamlit) (0.20.0)\n",
            "Requirement already satisfied: gitpython!=3.1.19 in /usr/local/lib/python3.10/dist-packages (from streamlit) (3.1.31)\n",
            "Requirement already satisfied: pydeck>=0.1.dev5 in /usr/local/lib/python3.10/dist-packages (from streamlit) (0.8.1b0)\n",
            "Requirement already satisfied: tornado>=6.0.3 in /usr/local/lib/python3.10/dist-packages (from streamlit) (6.3.1)\n",
            "Requirement already satisfied: watchdog in /usr/local/lib/python3.10/dist-packages (from streamlit) (3.0.0)\n",
            "Requirement already satisfied: entrypoints in /usr/local/lib/python3.10/dist-packages (from altair<5,>=3.2.0->streamlit) (0.4)\n",
            "Requirement already satisfied: jinja2 in /usr/local/lib/python3.10/dist-packages (from altair<5,>=3.2.0->streamlit) (3.1.2)\n",
            "Requirement already satisfied: jsonschema>=3.0 in /usr/local/lib/python3.10/dist-packages (from altair<5,>=3.2.0->streamlit) (4.3.3)\n",
            "Requirement already satisfied: toolz in /usr/local/lib/python3.10/dist-packages (from altair<5,>=3.2.0->streamlit) (0.12.0)\n",
            "Requirement already satisfied: gitdb<5,>=4.0.1 in /usr/local/lib/python3.10/dist-packages (from gitpython!=3.1.19->streamlit) (4.0.10)\n",
            "Requirement already satisfied: zipp>=0.5 in /usr/local/lib/python3.10/dist-packages (from importlib-metadata>=1.4->streamlit) (3.15.0)\n",
            "Requirement already satisfied: pytz>=2020.1 in /usr/local/lib/python3.10/dist-packages (from pandas<3,>=0.25->streamlit) (2022.7.1)\n",
            "Requirement already satisfied: six>=1.5 in /usr/local/lib/python3.10/dist-packages (from python-dateutil->streamlit) (1.16.0)\n",
            "Requirement already satisfied: urllib3<1.27,>=1.21.1 in /usr/local/lib/python3.10/dist-packages (from requests>=2.4->streamlit) (1.26.15)\n",
            "Requirement already satisfied: certifi>=2017.4.17 in /usr/local/lib/python3.10/dist-packages (from requests>=2.4->streamlit) (2022.12.7)\n",
            "Requirement already satisfied: charset-normalizer~=2.0.0 in /usr/local/lib/python3.10/dist-packages (from requests>=2.4->streamlit) (2.0.12)\n",
            "Requirement already satisfied: idna<4,>=2.5 in /usr/local/lib/python3.10/dist-packages (from requests>=2.4->streamlit) (3.4)\n",
            "Requirement already satisfied: markdown-it-py<3.0.0,>=2.2.0 in /usr/local/lib/python3.10/dist-packages (from rich>=10.11.0->streamlit) (2.2.0)\n",
            "Requirement already satisfied: pygments<3.0.0,>=2.13.0 in /usr/local/lib/python3.10/dist-packages (from rich>=10.11.0->streamlit) (2.14.0)\n",
            "Requirement already satisfied: pytz-deprecation-shim in /usr/local/lib/python3.10/dist-packages (from tzlocal>=1.1->streamlit) (0.1.0.post0)\n",
            "Requirement already satisfied: decorator>=3.4.0 in /usr/local/lib/python3.10/dist-packages (from validators>=0.2->streamlit) (4.4.2)\n",
            "Requirement already satisfied: smmap<6,>=3.0.1 in /usr/local/lib/python3.10/dist-packages (from gitdb<5,>=4.0.1->gitpython!=3.1.19->streamlit) (5.0.0)\n",
            "Requirement already satisfied: MarkupSafe>=2.0 in /usr/local/lib/python3.10/dist-packages (from jinja2->altair<5,>=3.2.0->streamlit) (2.1.2)\n",
            "Requirement already satisfied: attrs>=17.4.0 in /usr/local/lib/python3.10/dist-packages (from jsonschema>=3.0->altair<5,>=3.2.0->streamlit) (23.1.0)\n",
            "Requirement already satisfied: pyrsistent!=0.17.0,!=0.17.1,!=0.17.2,>=0.14.0 in /usr/local/lib/python3.10/dist-packages (from jsonschema>=3.0->altair<5,>=3.2.0->streamlit) (0.19.3)\n",
            "Requirement already satisfied: mdurl~=0.1 in /usr/local/lib/python3.10/dist-packages (from markdown-it-py<3.0.0,>=2.2.0->rich>=10.11.0->streamlit) (0.1.2)\n",
            "Requirement already satisfied: tzdata in /usr/local/lib/python3.10/dist-packages (from pytz-deprecation-shim->tzlocal>=1.1->streamlit) (2023.3)\n"
          ]
        }
      ]
    },
    {
      "cell_type": "code",
      "execution_count": null,
      "metadata": {
        "id": "VNtnL61fFqAy"
      },
      "outputs": [],
      "source": [
        "# importing necessary libraries\n",
        "import pandas as pd\n",
        "import seaborn as sns\n",
        "import matplotlib.pyplot as plt\n",
        "import numpy as np\n",
        "from math import sqrt\n",
        "\n",
        "\n",
        "\n",
        "\n",
        "#matplotlib inline"
      ]
    },
    {
      "cell_type": "code",
      "execution_count": null,
      "metadata": {
        "colab": {
          "base_uri": "https://localhost:8080/",
          "height": 176
        },
        "id": "M4X16iX2FqAz",
        "outputId": "64c39a2c-71c7-4e09-fe76-6d854697144d"
      },
      "outputs": [
        {
          "output_type": "execute_result",
          "data": {
            "text/plain": [
              "   MODELYEAR   MAKE MODEL VEHICLECLASS  ENGINESIZE  CYLINDERS TRANSMISSION  \\\n",
              "0       2014  ACURA   ILX      COMPACT         2.0          4          AS5   \n",
              "1       2014  ACURA   ILX      COMPACT         2.4          4           M6   \n",
              "\n",
              "  FUELTYPE  FUELCONSUMPTION_CITY  FUELCONSUMPTION_HWY  FUELCONSUMPTION_COMB  \\\n",
              "0        Z                   9.9                  6.7                   8.5   \n",
              "1        Z                  11.2                  7.7                   9.6   \n",
              "\n",
              "   FUELCONSUMPTION_COMB_MPG  CO2EMISSIONS  \n",
              "0                        33           196  \n",
              "1                        29           221  "
            ],
            "text/html": [
              "\n",
              "  <div id=\"df-31055ca7-31a1-4d61-8c60-0d327c89cb0b\">\n",
              "    <div class=\"colab-df-container\">\n",
              "      <div>\n",
              "<style scoped>\n",
              "    .dataframe tbody tr th:only-of-type {\n",
              "        vertical-align: middle;\n",
              "    }\n",
              "\n",
              "    .dataframe tbody tr th {\n",
              "        vertical-align: top;\n",
              "    }\n",
              "\n",
              "    .dataframe thead th {\n",
              "        text-align: right;\n",
              "    }\n",
              "</style>\n",
              "<table border=\"1\" class=\"dataframe\">\n",
              "  <thead>\n",
              "    <tr style=\"text-align: right;\">\n",
              "      <th></th>\n",
              "      <th>MODELYEAR</th>\n",
              "      <th>MAKE</th>\n",
              "      <th>MODEL</th>\n",
              "      <th>VEHICLECLASS</th>\n",
              "      <th>ENGINESIZE</th>\n",
              "      <th>CYLINDERS</th>\n",
              "      <th>TRANSMISSION</th>\n",
              "      <th>FUELTYPE</th>\n",
              "      <th>FUELCONSUMPTION_CITY</th>\n",
              "      <th>FUELCONSUMPTION_HWY</th>\n",
              "      <th>FUELCONSUMPTION_COMB</th>\n",
              "      <th>FUELCONSUMPTION_COMB_MPG</th>\n",
              "      <th>CO2EMISSIONS</th>\n",
              "    </tr>\n",
              "  </thead>\n",
              "  <tbody>\n",
              "    <tr>\n",
              "      <th>0</th>\n",
              "      <td>2014</td>\n",
              "      <td>ACURA</td>\n",
              "      <td>ILX</td>\n",
              "      <td>COMPACT</td>\n",
              "      <td>2.0</td>\n",
              "      <td>4</td>\n",
              "      <td>AS5</td>\n",
              "      <td>Z</td>\n",
              "      <td>9.9</td>\n",
              "      <td>6.7</td>\n",
              "      <td>8.5</td>\n",
              "      <td>33</td>\n",
              "      <td>196</td>\n",
              "    </tr>\n",
              "    <tr>\n",
              "      <th>1</th>\n",
              "      <td>2014</td>\n",
              "      <td>ACURA</td>\n",
              "      <td>ILX</td>\n",
              "      <td>COMPACT</td>\n",
              "      <td>2.4</td>\n",
              "      <td>4</td>\n",
              "      <td>M6</td>\n",
              "      <td>Z</td>\n",
              "      <td>11.2</td>\n",
              "      <td>7.7</td>\n",
              "      <td>9.6</td>\n",
              "      <td>29</td>\n",
              "      <td>221</td>\n",
              "    </tr>\n",
              "  </tbody>\n",
              "</table>\n",
              "</div>\n",
              "      <button class=\"colab-df-convert\" onclick=\"convertToInteractive('df-31055ca7-31a1-4d61-8c60-0d327c89cb0b')\"\n",
              "              title=\"Convert this dataframe to an interactive table.\"\n",
              "              style=\"display:none;\">\n",
              "        \n",
              "  <svg xmlns=\"http://www.w3.org/2000/svg\" height=\"24px\"viewBox=\"0 0 24 24\"\n",
              "       width=\"24px\">\n",
              "    <path d=\"M0 0h24v24H0V0z\" fill=\"none\"/>\n",
              "    <path d=\"M18.56 5.44l.94 2.06.94-2.06 2.06-.94-2.06-.94-.94-2.06-.94 2.06-2.06.94zm-11 1L8.5 8.5l.94-2.06 2.06-.94-2.06-.94L8.5 2.5l-.94 2.06-2.06.94zm10 10l.94 2.06.94-2.06 2.06-.94-2.06-.94-.94-2.06-.94 2.06-2.06.94z\"/><path d=\"M17.41 7.96l-1.37-1.37c-.4-.4-.92-.59-1.43-.59-.52 0-1.04.2-1.43.59L10.3 9.45l-7.72 7.72c-.78.78-.78 2.05 0 2.83L4 21.41c.39.39.9.59 1.41.59.51 0 1.02-.2 1.41-.59l7.78-7.78 2.81-2.81c.8-.78.8-2.07 0-2.86zM5.41 20L4 18.59l7.72-7.72 1.47 1.35L5.41 20z\"/>\n",
              "  </svg>\n",
              "      </button>\n",
              "      \n",
              "  <style>\n",
              "    .colab-df-container {\n",
              "      display:flex;\n",
              "      flex-wrap:wrap;\n",
              "      gap: 12px;\n",
              "    }\n",
              "\n",
              "    .colab-df-convert {\n",
              "      background-color: #E8F0FE;\n",
              "      border: none;\n",
              "      border-radius: 50%;\n",
              "      cursor: pointer;\n",
              "      display: none;\n",
              "      fill: #1967D2;\n",
              "      height: 32px;\n",
              "      padding: 0 0 0 0;\n",
              "      width: 32px;\n",
              "    }\n",
              "\n",
              "    .colab-df-convert:hover {\n",
              "      background-color: #E2EBFA;\n",
              "      box-shadow: 0px 1px 2px rgba(60, 64, 67, 0.3), 0px 1px 3px 1px rgba(60, 64, 67, 0.15);\n",
              "      fill: #174EA6;\n",
              "    }\n",
              "\n",
              "    [theme=dark] .colab-df-convert {\n",
              "      background-color: #3B4455;\n",
              "      fill: #D2E3FC;\n",
              "    }\n",
              "\n",
              "    [theme=dark] .colab-df-convert:hover {\n",
              "      background-color: #434B5C;\n",
              "      box-shadow: 0px 1px 3px 1px rgba(0, 0, 0, 0.15);\n",
              "      filter: drop-shadow(0px 1px 2px rgba(0, 0, 0, 0.3));\n",
              "      fill: #FFFFFF;\n",
              "    }\n",
              "  </style>\n",
              "\n",
              "      <script>\n",
              "        const buttonEl =\n",
              "          document.querySelector('#df-31055ca7-31a1-4d61-8c60-0d327c89cb0b button.colab-df-convert');\n",
              "        buttonEl.style.display =\n",
              "          google.colab.kernel.accessAllowed ? 'block' : 'none';\n",
              "\n",
              "        async function convertToInteractive(key) {\n",
              "          const element = document.querySelector('#df-31055ca7-31a1-4d61-8c60-0d327c89cb0b');\n",
              "          const dataTable =\n",
              "            await google.colab.kernel.invokeFunction('convertToInteractive',\n",
              "                                                     [key], {});\n",
              "          if (!dataTable) return;\n",
              "\n",
              "          const docLinkHtml = 'Like what you see? Visit the ' +\n",
              "            '<a target=\"_blank\" href=https://colab.research.google.com/notebooks/data_table.ipynb>data table notebook</a>'\n",
              "            + ' to learn more about interactive tables.';\n",
              "          element.innerHTML = '';\n",
              "          dataTable['output_type'] = 'display_data';\n",
              "          await google.colab.output.renderOutput(dataTable, element);\n",
              "          const docLink = document.createElement('div');\n",
              "          docLink.innerHTML = docLinkHtml;\n",
              "          element.appendChild(docLink);\n",
              "        }\n",
              "      </script>\n",
              "    </div>\n",
              "  </div>\n",
              "  "
            ]
          },
          "metadata": {},
          "execution_count": 91
        }
      ],
      "source": [
        "## atributing dataset to a dataframe df\n",
        "df = pd.read_csv('/content/FuelConsumptionCo2.csv')\n",
        "df.head(2)"
      ]
    },
    {
      "cell_type": "code",
      "source": [],
      "metadata": {
        "id": "HTb5rE4iy95y"
      },
      "execution_count": null,
      "outputs": []
    },
    {
      "cell_type": "code",
      "execution_count": null,
      "metadata": {
        "colab": {
          "base_uri": "https://localhost:8080/",
          "height": 300
        },
        "id": "chFJg15LFqAz",
        "outputId": "81b18fcf-c294-4d8a-c697-6c5d40db4989"
      },
      "outputs": [
        {
          "output_type": "execute_result",
          "data": {
            "text/plain": [
              "       MODELYEAR   ENGINESIZE    CYLINDERS  FUELCONSUMPTION_CITY  \\\n",
              "count     1067.0  1067.000000  1067.000000           1067.000000   \n",
              "mean      2014.0     3.346298     5.794752             13.296532   \n",
              "std          0.0     1.415895     1.797447              4.101253   \n",
              "min       2014.0     1.000000     3.000000              4.600000   \n",
              "25%       2014.0     2.000000     4.000000             10.250000   \n",
              "50%       2014.0     3.400000     6.000000             12.600000   \n",
              "75%       2014.0     4.300000     8.000000             15.550000   \n",
              "max       2014.0     8.400000    12.000000             30.200000   \n",
              "\n",
              "       FUELCONSUMPTION_HWY  FUELCONSUMPTION_COMB  FUELCONSUMPTION_COMB_MPG  \\\n",
              "count          1067.000000           1067.000000               1067.000000   \n",
              "mean              9.474602             11.580881                 26.441425   \n",
              "std               2.794510              3.485595                  7.468702   \n",
              "min               4.900000              4.700000                 11.000000   \n",
              "25%               7.500000              9.000000                 21.000000   \n",
              "50%               8.800000             10.900000                 26.000000   \n",
              "75%              10.850000             13.350000                 31.000000   \n",
              "max              20.500000             25.800000                 60.000000   \n",
              "\n",
              "       CO2EMISSIONS  \n",
              "count   1067.000000  \n",
              "mean     256.228679  \n",
              "std       63.372304  \n",
              "min      108.000000  \n",
              "25%      207.000000  \n",
              "50%      251.000000  \n",
              "75%      294.000000  \n",
              "max      488.000000  "
            ],
            "text/html": [
              "\n",
              "  <div id=\"df-c42f174c-d0e4-4246-adbb-e2baa0e5792c\">\n",
              "    <div class=\"colab-df-container\">\n",
              "      <div>\n",
              "<style scoped>\n",
              "    .dataframe tbody tr th:only-of-type {\n",
              "        vertical-align: middle;\n",
              "    }\n",
              "\n",
              "    .dataframe tbody tr th {\n",
              "        vertical-align: top;\n",
              "    }\n",
              "\n",
              "    .dataframe thead th {\n",
              "        text-align: right;\n",
              "    }\n",
              "</style>\n",
              "<table border=\"1\" class=\"dataframe\">\n",
              "  <thead>\n",
              "    <tr style=\"text-align: right;\">\n",
              "      <th></th>\n",
              "      <th>MODELYEAR</th>\n",
              "      <th>ENGINESIZE</th>\n",
              "      <th>CYLINDERS</th>\n",
              "      <th>FUELCONSUMPTION_CITY</th>\n",
              "      <th>FUELCONSUMPTION_HWY</th>\n",
              "      <th>FUELCONSUMPTION_COMB</th>\n",
              "      <th>FUELCONSUMPTION_COMB_MPG</th>\n",
              "      <th>CO2EMISSIONS</th>\n",
              "    </tr>\n",
              "  </thead>\n",
              "  <tbody>\n",
              "    <tr>\n",
              "      <th>count</th>\n",
              "      <td>1067.0</td>\n",
              "      <td>1067.000000</td>\n",
              "      <td>1067.000000</td>\n",
              "      <td>1067.000000</td>\n",
              "      <td>1067.000000</td>\n",
              "      <td>1067.000000</td>\n",
              "      <td>1067.000000</td>\n",
              "      <td>1067.000000</td>\n",
              "    </tr>\n",
              "    <tr>\n",
              "      <th>mean</th>\n",
              "      <td>2014.0</td>\n",
              "      <td>3.346298</td>\n",
              "      <td>5.794752</td>\n",
              "      <td>13.296532</td>\n",
              "      <td>9.474602</td>\n",
              "      <td>11.580881</td>\n",
              "      <td>26.441425</td>\n",
              "      <td>256.228679</td>\n",
              "    </tr>\n",
              "    <tr>\n",
              "      <th>std</th>\n",
              "      <td>0.0</td>\n",
              "      <td>1.415895</td>\n",
              "      <td>1.797447</td>\n",
              "      <td>4.101253</td>\n",
              "      <td>2.794510</td>\n",
              "      <td>3.485595</td>\n",
              "      <td>7.468702</td>\n",
              "      <td>63.372304</td>\n",
              "    </tr>\n",
              "    <tr>\n",
              "      <th>min</th>\n",
              "      <td>2014.0</td>\n",
              "      <td>1.000000</td>\n",
              "      <td>3.000000</td>\n",
              "      <td>4.600000</td>\n",
              "      <td>4.900000</td>\n",
              "      <td>4.700000</td>\n",
              "      <td>11.000000</td>\n",
              "      <td>108.000000</td>\n",
              "    </tr>\n",
              "    <tr>\n",
              "      <th>25%</th>\n",
              "      <td>2014.0</td>\n",
              "      <td>2.000000</td>\n",
              "      <td>4.000000</td>\n",
              "      <td>10.250000</td>\n",
              "      <td>7.500000</td>\n",
              "      <td>9.000000</td>\n",
              "      <td>21.000000</td>\n",
              "      <td>207.000000</td>\n",
              "    </tr>\n",
              "    <tr>\n",
              "      <th>50%</th>\n",
              "      <td>2014.0</td>\n",
              "      <td>3.400000</td>\n",
              "      <td>6.000000</td>\n",
              "      <td>12.600000</td>\n",
              "      <td>8.800000</td>\n",
              "      <td>10.900000</td>\n",
              "      <td>26.000000</td>\n",
              "      <td>251.000000</td>\n",
              "    </tr>\n",
              "    <tr>\n",
              "      <th>75%</th>\n",
              "      <td>2014.0</td>\n",
              "      <td>4.300000</td>\n",
              "      <td>8.000000</td>\n",
              "      <td>15.550000</td>\n",
              "      <td>10.850000</td>\n",
              "      <td>13.350000</td>\n",
              "      <td>31.000000</td>\n",
              "      <td>294.000000</td>\n",
              "    </tr>\n",
              "    <tr>\n",
              "      <th>max</th>\n",
              "      <td>2014.0</td>\n",
              "      <td>8.400000</td>\n",
              "      <td>12.000000</td>\n",
              "      <td>30.200000</td>\n",
              "      <td>20.500000</td>\n",
              "      <td>25.800000</td>\n",
              "      <td>60.000000</td>\n",
              "      <td>488.000000</td>\n",
              "    </tr>\n",
              "  </tbody>\n",
              "</table>\n",
              "</div>\n",
              "      <button class=\"colab-df-convert\" onclick=\"convertToInteractive('df-c42f174c-d0e4-4246-adbb-e2baa0e5792c')\"\n",
              "              title=\"Convert this dataframe to an interactive table.\"\n",
              "              style=\"display:none;\">\n",
              "        \n",
              "  <svg xmlns=\"http://www.w3.org/2000/svg\" height=\"24px\"viewBox=\"0 0 24 24\"\n",
              "       width=\"24px\">\n",
              "    <path d=\"M0 0h24v24H0V0z\" fill=\"none\"/>\n",
              "    <path d=\"M18.56 5.44l.94 2.06.94-2.06 2.06-.94-2.06-.94-.94-2.06-.94 2.06-2.06.94zm-11 1L8.5 8.5l.94-2.06 2.06-.94-2.06-.94L8.5 2.5l-.94 2.06-2.06.94zm10 10l.94 2.06.94-2.06 2.06-.94-2.06-.94-.94-2.06-.94 2.06-2.06.94z\"/><path d=\"M17.41 7.96l-1.37-1.37c-.4-.4-.92-.59-1.43-.59-.52 0-1.04.2-1.43.59L10.3 9.45l-7.72 7.72c-.78.78-.78 2.05 0 2.83L4 21.41c.39.39.9.59 1.41.59.51 0 1.02-.2 1.41-.59l7.78-7.78 2.81-2.81c.8-.78.8-2.07 0-2.86zM5.41 20L4 18.59l7.72-7.72 1.47 1.35L5.41 20z\"/>\n",
              "  </svg>\n",
              "      </button>\n",
              "      \n",
              "  <style>\n",
              "    .colab-df-container {\n",
              "      display:flex;\n",
              "      flex-wrap:wrap;\n",
              "      gap: 12px;\n",
              "    }\n",
              "\n",
              "    .colab-df-convert {\n",
              "      background-color: #E8F0FE;\n",
              "      border: none;\n",
              "      border-radius: 50%;\n",
              "      cursor: pointer;\n",
              "      display: none;\n",
              "      fill: #1967D2;\n",
              "      height: 32px;\n",
              "      padding: 0 0 0 0;\n",
              "      width: 32px;\n",
              "    }\n",
              "\n",
              "    .colab-df-convert:hover {\n",
              "      background-color: #E2EBFA;\n",
              "      box-shadow: 0px 1px 2px rgba(60, 64, 67, 0.3), 0px 1px 3px 1px rgba(60, 64, 67, 0.15);\n",
              "      fill: #174EA6;\n",
              "    }\n",
              "\n",
              "    [theme=dark] .colab-df-convert {\n",
              "      background-color: #3B4455;\n",
              "      fill: #D2E3FC;\n",
              "    }\n",
              "\n",
              "    [theme=dark] .colab-df-convert:hover {\n",
              "      background-color: #434B5C;\n",
              "      box-shadow: 0px 1px 3px 1px rgba(0, 0, 0, 0.15);\n",
              "      filter: drop-shadow(0px 1px 2px rgba(0, 0, 0, 0.3));\n",
              "      fill: #FFFFFF;\n",
              "    }\n",
              "  </style>\n",
              "\n",
              "      <script>\n",
              "        const buttonEl =\n",
              "          document.querySelector('#df-c42f174c-d0e4-4246-adbb-e2baa0e5792c button.colab-df-convert');\n",
              "        buttonEl.style.display =\n",
              "          google.colab.kernel.accessAllowed ? 'block' : 'none';\n",
              "\n",
              "        async function convertToInteractive(key) {\n",
              "          const element = document.querySelector('#df-c42f174c-d0e4-4246-adbb-e2baa0e5792c');\n",
              "          const dataTable =\n",
              "            await google.colab.kernel.invokeFunction('convertToInteractive',\n",
              "                                                     [key], {});\n",
              "          if (!dataTable) return;\n",
              "\n",
              "          const docLinkHtml = 'Like what you see? Visit the ' +\n",
              "            '<a target=\"_blank\" href=https://colab.research.google.com/notebooks/data_table.ipynb>data table notebook</a>'\n",
              "            + ' to learn more about interactive tables.';\n",
              "          element.innerHTML = '';\n",
              "          dataTable['output_type'] = 'display_data';\n",
              "          await google.colab.output.renderOutput(dataTable, element);\n",
              "          const docLink = document.createElement('div');\n",
              "          docLink.innerHTML = docLinkHtml;\n",
              "          element.appendChild(docLink);\n",
              "        }\n",
              "      </script>\n",
              "    </div>\n",
              "  </div>\n",
              "  "
            ]
          },
          "metadata": {},
          "execution_count": 92
        }
      ],
      "source": [
        "# describing statiscal measures\n",
        "df.describe()"
      ]
    },
    {
      "cell_type": "markdown",
      "metadata": {
        "id": "ntzglOMKFqA0"
      },
      "source": [
        "### Exploratory analysis\n",
        "1. correwlation between pairs"
      ]
    },
    {
      "cell_type": "code",
      "execution_count": null,
      "metadata": {
        "colab": {
          "base_uri": "https://localhost:8080/"
        },
        "id": "8fParrKxFqA0",
        "outputId": "83574785-5549-485e-da7c-acab5eedb289"
      },
      "outputs": [
        {
          "output_type": "stream",
          "name": "stdout",
          "text": [
            "<class 'pandas.core.frame.DataFrame'>\n",
            "RangeIndex: 1067 entries, 0 to 1066\n",
            "Data columns (total 13 columns):\n",
            " #   Column                    Non-Null Count  Dtype  \n",
            "---  ------                    --------------  -----  \n",
            " 0   MODELYEAR                 1067 non-null   int64  \n",
            " 1   MAKE                      1067 non-null   object \n",
            " 2   MODEL                     1067 non-null   object \n",
            " 3   VEHICLECLASS              1067 non-null   object \n",
            " 4   ENGINESIZE                1067 non-null   float64\n",
            " 5   CYLINDERS                 1067 non-null   int64  \n",
            " 6   TRANSMISSION              1067 non-null   object \n",
            " 7   FUELTYPE                  1067 non-null   object \n",
            " 8   FUELCONSUMPTION_CITY      1067 non-null   float64\n",
            " 9   FUELCONSUMPTION_HWY       1067 non-null   float64\n",
            " 10  FUELCONSUMPTION_COMB      1067 non-null   float64\n",
            " 11  FUELCONSUMPTION_COMB_MPG  1067 non-null   int64  \n",
            " 12  CO2EMISSIONS              1067 non-null   int64  \n",
            "dtypes: float64(4), int64(4), object(5)\n",
            "memory usage: 108.5+ KB\n"
          ]
        }
      ],
      "source": [
        "df.info()"
      ]
    },
    {
      "cell_type": "code",
      "execution_count": null,
      "metadata": {
        "id": "VN2WerfZFqA1"
      },
      "outputs": [],
      "source": [
        "num_features=list(df.select_dtypes(include='number').columns)"
      ]
    },
    {
      "cell_type": "code",
      "execution_count": null,
      "metadata": {
        "colab": {
          "base_uri": "https://localhost:8080/",
          "height": 695
        },
        "id": "4l17zdBaFqA1",
        "outputId": "5e9d4bab-5b31-441e-b330-2f3b97c7c252"
      },
      "outputs": [
        {
          "output_type": "stream",
          "name": "stderr",
          "text": [
            "<ipython-input-95-7d11f27a72e8>:3: FutureWarning:\n",
            "\n",
            "The default value of numeric_only in DataFrame.corr is deprecated. In a future version, it will default to False. Select only valid columns or specify the value of numeric_only to silence this warning.\n",
            "\n"
          ]
        },
        {
          "output_type": "display_data",
          "data": {
            "text/plain": [
              "<Figure size 1300x500 with 2 Axes>"
            ],
            "image/png": "[encoded data removed]"
          },
          "metadata": {}
        }
      ],
      "source": [
        "# correlation matrix to measure the strenght of the correlation between features\n",
        "plt.figure(figsize=(13,5))\n",
        "corr = df.corr()\n",
        "ax = sns.heatmap(\n",
        "    corr, \n",
        "    vmin=-1, vmax=1, center=0,\n",
        "    cmap=sns.diverging_palette(20, 220, n=200),\n",
        "    square=True\n",
        ")\n",
        "ax.set_xticklabels(\n",
        "    ax.get_xticklabels(),\n",
        "    rotation=45,\n",
        "    horizontalalignment='right'\n",
        ");\n",
        "plt.show()"
      ]
    },
    {
      "cell_type": "code",
      "execution_count": null,
      "metadata": {
        "colab": {
          "base_uri": "https://localhost:8080/",
          "height": 606
        },
        "id": "VH3OCZnvFqA1",
        "outputId": "bd599e81-8727-4bda-9790-5e84e4d9dba4"
      },
      "outputs": [
        {
          "output_type": "display_data",
          "data": {
            "text/plain": [
              "<Figure size 1300x500 with 2 Axes>"
            ],
            "image/png": "[encoded data removed]"
          },
          "metadata": {}
        }
      ],
      "source": [
        "# correlation matrix to measure the strenght of the correlation between features\n",
        "plt.figure(figsize=(13,5))\n",
        "corr = df[num_features[1:]].corr()\n",
        "ax = sns.heatmap(\n",
        "    corr, \n",
        "    vmin=-1, vmax=1, center=0,\n",
        "    cmap=sns.diverging_palette(20, 220, n=200),\n",
        "    square=True\n",
        ")\n",
        "ax.set_xticklabels(\n",
        "    ax.get_xticklabels(),\n",
        "    rotation=45,\n",
        "    horizontalalignment='right'\n",
        ");\n",
        "plt.show()"
      ]
    },
    {
      "cell_type": "code",
      "execution_count": null,
      "metadata": {
        "colab": {
          "base_uri": "https://localhost:8080/"
        },
        "id": "W_Pdhtv0FqA2",
        "outputId": "bc8436ef-8ad7-4665-f92d-348544149644"
      },
      "outputs": [
        {
          "output_type": "execute_result",
          "data": {
            "text/plain": [
              "1"
            ]
          },
          "metadata": {},
          "execution_count": 97
        }
      ],
      "source": [
        "# only one category\n",
        "df['MODELYEAR'].nunique()"
      ]
    },
    {
      "cell_type": "code",
      "execution_count": null,
      "metadata": {
        "colab": {
          "base_uri": "https://localhost:8080/",
          "height": 465
        },
        "id": "1v2z_10PFqA2",
        "outputId": "1ee46903-0400-4d00-f954-8b22f3271f58"
      },
      "outputs": [
        {
          "output_type": "display_data",
          "data": {
            "text/plain": [
              "<Figure size 1300x500 with 1 Axes>"
            ],
            "image/png": "[encoded data removed]"
          },
          "metadata": {}
        }
      ],
      "source": [
        "# ploting graph engine size x CO2 emissions\n",
        "plt.figure(figsize=(13,5))\n",
        "sns.lineplot(x=df['ENGINESIZE'], y=df['CO2EMISSIONS'])\n",
        "plt.xlabel('Motor engine')\n",
        "plt.ylabel('CO2 emissions')\n",
        "plt.show()"
      ]
    },
    {
      "cell_type": "markdown",
      "metadata": {
        "id": "vlfyXQhTFqA3"
      },
      "source": [
        "The lineplot shows a positive correlation between the size/power of the engine motor and the carbon emission. With some variation, we can say that the bigger the engine the greater the levels of CO2 emited. "
      ]
    },
    {
      "cell_type": "markdown",
      "metadata": {
        "id": "MHjpmBWBFqA3"
      },
      "source": [
        "[BONUS]\n",
        "---\n",
        "What are the differences of the techniques of Car manufacture among different countries?"
      ]
    },
    {
      "cell_type": "code",
      "execution_count": null,
      "metadata": {
        "id": "YQly1X5gFqA3"
      },
      "outputs": [],
      "source": [
        "!pip install mplcyberpunk"
      ]
    },
    {
      "cell_type": "code",
      "execution_count": null,
      "metadata": {
        "id": "VIjVm2sCFqA3"
      },
      "outputs": [],
      "source": [
        "df['MAKE'].unique()"
      ]
    },
    {
      "cell_type": "code",
      "execution_count": null,
      "metadata": {
        "id": "ohlb-KN3FqA3"
      },
      "outputs": [],
      "source": [
        "df.groupby('MAKE')[['ENGINESIZE','CYLINDERS']].agg(pd.Series.mode)\n",
        "#com_df.loc['TOYOTA','ENGINESIZE']=2.5\n",
        "#com_df.loc['BENTLEY','CYLINERS']=10\n"
      ]
    },
    {
      "cell_type": "code",
      "execution_count": null,
      "metadata": {
        "id": "DNHtHea4FqA4"
      },
      "outputs": [],
      "source": [
        "com_df=df.groupby('MAKE')[['ENGINESIZE','CYLINDERS']].agg(lambda x:x.mode()[0])#.reset_index()"
      ]
    },
    {
      "cell_type": "code",
      "execution_count": null,
      "metadata": {
        "id": "We8E0WVeFqA4"
      },
      "outputs": [],
      "source": [
        "com_df.index"
      ]
    },
    {
      "cell_type": "code",
      "execution_count": null,
      "metadata": {
        "id": "xlq35IMKFqA4"
      },
      "outputs": [],
      "source": []
    },
    {
      "cell_type": "code",
      "execution_count": null,
      "metadata": {
        "id": "Hia9D80VFqA4"
      },
      "outputs": [],
      "source": [
        "com_df=com_df.loc[['AUDI','BMW','CHEVROLET','HYUNDAI', 'LINCOLN','PORSCHE','TOYOTA']]\n",
        "com_df"
      ]
    },
    {
      "cell_type": "code",
      "execution_count": null,
      "metadata": {
        "id": "LPWG2SwOFqA5"
      },
      "outputs": [],
      "source": [
        "MAKER=list(com_df.index)\n",
        "Enginesize=list(com_df['ENGINESIZE'])\n",
        "Cylinders=list(com_df['CYLINDERS'])"
      ]
    },
    {
      "cell_type": "code",
      "execution_count": null,
      "metadata": {
        "id": "ByoY_w6MFqA5"
      },
      "outputs": [],
      "source": [
        "MAKER = [*MAKER, MAKER[0]]\n",
        "Enginesize = [*Enginesize, Enginesize[0]]\n",
        "Cylinders = [*Cylinders, Cylinders[0]]\n",
        "\n",
        "Maker = np.linspace(start=0, stop=2 * np.pi, num=len(MAKER))"
      ]
    },
    {
      "cell_type": "code",
      "execution_count": null,
      "metadata": {
        "id": "7P5BFU4sFqA5"
      },
      "outputs": [],
      "source": [
        "MAKER"
      ]
    },
    {
      "cell_type": "code",
      "execution_count": null,
      "metadata": {
        "id": "lEdB2AC4FqA5"
      },
      "outputs": [],
      "source": [
        "Enginesize"
      ]
    },
    {
      "cell_type": "code",
      "execution_count": null,
      "metadata": {
        "code_folding": [],
        "scrolled": false,
        "id": "s3ZrJp6pFqA5"
      },
      "outputs": [],
      "source": [
        "from matplotlib.patches import Patch\n",
        "import mplcyberpunk\n",
        "\n",
        "with plt.style.context('cyberpunk'):\n",
        "    fig, ax = plt.subplots(figsize=(8,8), subplot_kw=dict(polar=True))\n",
        "\n",
        "    ax.plot(Maker, Enginesize, lw=2)\n",
        "    ax.plot(Maker, Cylinders, lw=2)\n",
        "\n",
        "    ax.fill(Maker, Enginesize, alpha=0.3)\n",
        "    ax.fill(Maker, Cylinders, alpha=0.3)\n",
        "\n",
        "    lines, labels = plt.thetagrids(np.degrees(Maker), labels=MAKER)\n",
        "\n",
        "    ax.tick_params(axis='both', which='major', pad=30, labelsize=15)\n",
        "\n",
        "    ax.spines['polar'].set_linewidth(3)\n",
        "    \n",
        "    edge_color = (1, 1, 1, 0.2) \n",
        "    ax.spines['polar'].set_color(edge_color) \n",
        "    \n",
        "    ax.grid(color='white', alpha=0.3)\n",
        "    \n",
        "    ax.set_ylim(0, 10)\n",
        "    \n",
        "    # Create custom legend handles\n",
        "    Enginesize_legend = Patch(facecolor='C0', alpha=0.5, label='Enginesize')\n",
        "    Cylinders_legend = Patch(facecolor='C1', alpha=0.5, label='Cylinders')\n",
        "\n",
        "    # Add a legend with custom position and handles\n",
        "    ax.legend(handles=[Enginesize_legend, Cylinders_legend],\n",
        "              bbox_to_anchor=(1.2, 1.2), fontsize=20, \n",
        "              frameon=True)\n",
        "\n",
        "\n",
        "    plt.show()"
      ]
    },
    {
      "cell_type": "markdown",
      "metadata": {
        "id": "5Bu5k25EFqA6"
      },
      "source": [
        "Model selection\n",
        "---\n",
        "1. what is the suitable model?\n",
        "2. ML Modeling \n",
        "3  prediction/Estimation and Error discussion\n",
        "\n",
        "### Spliting data to train the model"
      ]
    },
    {
      "cell_type": "code",
      "execution_count": null,
      "metadata": {
        "id": "oDZUMwGKFqA6"
      },
      "outputs": [],
      "source": [
        "# importing necessary libraries\n",
        "from sklearn import linear_model\n",
        "from sklearn.metrics import r2_score, mean_squared_error,mean_absolute_error\n",
        "from sklearn.model_selection import train_test_split"
      ]
    },
    {
      "cell_type": "code",
      "execution_count": null,
      "metadata": {
        "id": "jt9f5cZnFqA6"
      },
      "outputs": [],
      "source": [
        "# features into variables\n",
        "engine= df[['ENGINESIZE']]\n",
        "co2 = df[['CO2EMISSIONS']]\n"
      ]
    },
    {
      "cell_type": "code",
      "execution_count": null,
      "metadata": {
        "id": "2TSnEm2qFqA6"
      },
      "outputs": [],
      "source": [
        "# ploting the correlation between features\n",
        "plt.scatter(engine, co2, color='blue')\n",
        "plt.xlabel('engine')\n",
        "plt.ylabel('co2 emission')\n",
        "plt.show()"
      ]
    },
    {
      "cell_type": "markdown",
      "metadata": {
        "id": "IRklVoCAFqA6"
      },
      "source": [
        "The datapoints on the scatterplot indicates that is possible to do a linear regression with this dataset, although the amount of residual."
      ]
    },
    {
      "cell_type": "code",
      "execution_count": null,
      "metadata": {
        "id": "6YGLNNodFqA6"
      },
      "outputs": [],
      "source": [
        "# spliting data in train and test with train_test_split\n",
        "engine_train, engine_test, co2_train, co2_test = train_test_split(engine, co2, test_size=0.2, random_state=42)"
      ]
    },
    {
      "cell_type": "code",
      "execution_count": null,
      "metadata": {
        "id": "CIvEvSE8FqA7"
      },
      "outputs": [],
      "source": [
        "# ploting the correlation between features\n",
        "plt.scatter(engine_train, co2_train, color='blue')\n",
        "plt.xlabel('engine')\n",
        "plt.ylabel('co2 emission')\n",
        "plt.show()"
      ]
    },
    {
      "cell_type": "markdown",
      "metadata": {
        "id": "iAR2NlVxFqA7"
      },
      "source": [
        "### Creating the model with the train dataset"
      ]
    },
    {
      "cell_type": "code",
      "execution_count": null,
      "metadata": {
        "id": "263hrEO7FqA7"
      },
      "outputs": [],
      "source": [
        "# creating a linear regression model\n",
        "# LinearRegression is a method of sklearn\n",
        "modelo = linear_model.LinearRegression()"
      ]
    },
    {
      "cell_type": "code",
      "execution_count": null,
      "metadata": {
        "id": "fa5QFMwuFqA7"
      },
      "outputs": [],
      "source": [
        "# linear regression formula: (Y = A + B.X)\n",
        "# training the model to obtain the values of A and B (always do it in the train dataset)\n",
        "modelo.fit(engine_train, co2_train)"
      ]
    },
    {
      "cell_type": "markdown",
      "metadata": {
        "id": "kIu95zLYFqA7"
      },
      "source": [
        "Estimated Linear Model\n",
        "---\n",
        "Data: $(x^i,y^i)$'s pair\n",
        "$$ \\hat y= A x+B$$"
      ]
    },
    {
      "cell_type": "code",
      "execution_count": null,
      "metadata": {
        "id": "tfRmN_M6FqA7"
      },
      "outputs": [],
      "source": [
        "# exibiting the coeficients A and B that the model generated\n",
        "print(f'(B) intercept: {modelo.intercept_} | (A) inclination: {modelo.coef_}')"
      ]
    },
    {
      "cell_type": "code",
      "execution_count": null,
      "metadata": {
        "id": "ciSLLNFZFqA7"
      },
      "outputs": [],
      "source": [
        "# print linear regression line on our TRAIN dataset\n",
        "plt.scatter(engine_train, co2_train, color='blue')\n",
        "plt.plot(engine_train, modelo.coef_[0][0]*engine_train + modelo.intercept_[0], '-r') \n",
        "\n",
        "plt.ylabel('CO2 emissions')\n",
        "plt.xlabel('Engine')\n",
        "plt.show()"
      ]
    },
    {
      "cell_type": "markdown",
      "metadata": {
        "id": "VqtzmbujFqBA"
      },
      "source": [
        "### Executing the model on the test dataset\n",
        "First: predictions on the 'test' dataset"
      ]
    },
    {
      "cell_type": "code",
      "execution_count": null,
      "metadata": {
        "id": "S0n0dIE2FqBA"
      },
      "outputs": [],
      "source": [
        "predictCO2 = modelo.predict(engine_test)"
      ]
    },
    {
      "cell_type": "code",
      "execution_count": null,
      "metadata": {
        "id": "2zUdNkE8FqBA"
      },
      "outputs": [],
      "source": [
        "# print linear regression line on our TEST dataset\n",
        "plt.scatter(engine_test, co2_test, color='green')\n",
        "plt.plot(engine_test, modelo.coef_[0][0]*engine_test + modelo.intercept_[0], '-r')\n",
        "plt.ylabel('CO2 emissions')\n",
        "plt.xlabel('Engine')\n",
        "plt.show()"
      ]
    },
    {
      "cell_type": "markdown",
      "metadata": {
        "id": "83iQRCd3FqBA"
      },
      "source": [
        "### Evaluating the model"
      ]
    },
    {
      "cell_type": "code",
      "execution_count": null,
      "metadata": {
        "id": "U05gSQ-KFqBA"
      },
      "outputs": [],
      "source": [
        "# Showing metrics to check the acuracy of our model\n",
        "print(f'Sum of squared error (SSE): {np.sum((predictCO2 - co2_test)**2)}') # SSE: sum all of the  residuals and square them. \n",
        "print(f'Mean squared error (MSE): {mean_squared_error(co2_test, predictCO2)}') # MSE: avg of SSE\n",
        "print(f'Mean absolute error (MAE): {mean_absolute_error(co2_test, predictCO2)}')\n",
        "print (f'Sqrt of mean squared error (RMSE):  {sqrt(mean_squared_error(co2_test, predictCO2))}') # RMSE: sqrt of the MSE\n",
        "print(f'R2-score: {r2_score(predictCO2, co2_test)}') # r2-score: explains the variance of the variable Y when it comes to X"
      ]
    },
    {
      "cell_type": "markdown",
      "metadata": {
        "id": "LujfCOSQFqBB"
      },
      "source": [
        "All of the metrics above help evaluate the acuracy of the model. r2, for instance, is 0.68: this means that our linear regression model (values A and B given) is able to explain 68% of the variance between the CO2 emission and engine of the cars. \n",
        "\n",
        "The usual benchmark for this metric is 0.70."
      ]
    },
    {
      "cell_type": "markdown",
      "metadata": {
        "id": "MnueEAxEFqBB"
      },
      "source": [
        "[Group Practicing]\n",
        "---\n",
        "As same as the processing for estimated between `Engingesize ➡︎ CO2 emission`, now consider make a practicing for\n",
        "`Cylinders ➡︎ CO2 emission`."
      ]
    },
    {
      "cell_type": "code",
      "execution_count": null,
      "metadata": {
        "code_folding": [
          0
        ],
        "id": "xAqnb1IHFqBD"
      },
      "outputs": [],
      "source": [
        "# features into variables\n",
        "cylinders= df[['CYLINDERS']]\n",
        "co2 = df[['CO2EMISSIONS']]"
      ]
    },
    {
      "cell_type": "code",
      "execution_count": null,
      "metadata": {
        "code_folding": [],
        "id": "NFZdGel3FqBD"
      },
      "outputs": [],
      "source": [
        "def LinearModel(X,y,features_,split_size=0.2):\n",
        "    X_train, X_test, y_train, y_test = train_test_split(X, y, test_size=split_size, random_state=42)\n",
        "    reg_model = linear_model.LinearRegression()\n",
        "    reg_model.fit(X_train, y_train)\n",
        "    # exibiting the coeficients A and B that the model generated\n",
        "    #print(f'(B) intercept: {reg_model.intercept_} | (A) inclination: {reg_model.coef_}') \n",
        "    #print(\"Estimated Linear Model\\n [CO2]=\")\n",
        "    # Get the coefficients and intercept\n",
        "    coeffs = reg_model.coef_\n",
        "    intercept = reg_model.intercept_\n",
        "\n",
        "    # Create a string representation of the expression\n",
        "    expr = \"[CO2 Emission] = {:.2f}\".format(intercept)\n",
        "    for i in range(len(coeffs)):\n",
        "        expr += \" + {:.2f}[{}]\".format(coeffs[i], features_[i])\n",
        "\n",
        "    # Print out the expression\n",
        "    print(\"===\\n\",expr,\"\\n===\")\n",
        "    \n",
        "    predict_= reg_model.predict(X_test)\n",
        "    if (len(X)==1):\n",
        "        plt.scatter(X_test, y_test, color='green')\n",
        "        plt.plot(X_test, reg_model.coef_[0][0]*X_test + reg_model.intercept_[0], '-r')\n",
        "        plt.ylabel('CO2 emissions')\n",
        "        plt.xlabel(feature_)\n",
        "        plt.show()\n",
        "    \n",
        "    \n",
        "    # Showing metrics to check the acuracy of our model\n",
        "    print(f'Sum of squared error (SSE): {np.sum((predict_ - y_test)**2)}') # SSE: sum all of the  residuals and square them. \n",
        "    print(f'Mean squared error (MSE): {mean_squared_error(y_test, predict_)}') # MSE: avg of SSE\n",
        "    print(f'Mean absolute error (MAE): {mean_absolute_error(y_test, predict_)}')\n",
        "    print (f'Sqrt of mean squared error (RMSE):  {sqrt(mean_squared_error(y_test, predict_))}') # RMSE: sqrt of the MSE\n",
        "    print(f'R2-score: {r2_score(predict_, y_test)}') # r2-score: explains the variance of the variable Y when it comes to X"
      ]
    },
    {
      "cell_type": "code",
      "execution_count": null,
      "metadata": {
        "id": "q_cSNa6MFqBD"
      },
      "outputs": [],
      "source": [
        "X=df[['CYLINDERS']]\n",
        "y=df['CO2EMISSIONS']\n",
        "features=list(X.columns)\n",
        "\n",
        "LinearModel(X,y,features)"
      ]
    },
    {
      "cell_type": "code",
      "execution_count": null,
      "metadata": {
        "id": "nTod3kbgFqBE"
      },
      "outputs": [],
      "source": [
        "X=df[['ENGINESIZE']]\n",
        "y=df['CO2EMISSIONS']\n",
        "features=list(X.columns)\n",
        "\n",
        "LinearModel(X,y,features)"
      ]
    },
    {
      "cell_type": "code",
      "execution_count": null,
      "metadata": {
        "id": "oStrPHX7FqBE"
      },
      "outputs": [],
      "source": [
        "X=df[['ENGINESIZE','CYLINDERS']]\n",
        "y=df['CO2EMISSIONS']\n",
        "features=features=list(X.columns)\n",
        "LinearModel(X,y,features)"
      ]
    },
    {
      "cell_type": "code",
      "execution_count": null,
      "metadata": {
        "id": "fe8j5EG1FqBE"
      },
      "outputs": [],
      "source": [
        "from mpl_toolkits.mplot3d import Axes3D\n",
        "\n",
        "# Fit the linear model\n",
        "model = linear_model.LinearRegression().fit(X, y)\n",
        "\n",
        "# Get the coefficients and intercept\n",
        "A1, A2 = model.coef_\n",
        "C = model.intercept_\n",
        "\n",
        "# Create a meshgrid of X and Y values\n",
        "X1, X2 = np.meshgrid(X['ENGINESIZE'],X['CYLINDERS'])\n",
        "Y = A1*X1 + A2*X2 + C\n",
        "\n",
        "# Create the 3D plot\n",
        "fig = plt.figure(figsize=[8,8])\n",
        "ax = fig.add_subplot(111, projection='3d')\n",
        "\n",
        "# Plot the data points\n",
        "#ax.scatter(X['ENGINESIZE'], X['CYLINDERS'], y)\n",
        "\n",
        "# Plot the estimated plane\n",
        "ax.plot_surface(X1, X2, Y, alpha=0.01)\n",
        "\n",
        "# Add labels and title\n",
        "ax.set_xlabel('ENGINESIZE')\n",
        "ax.set_ylabel('CYLINDERS')\n",
        "ax.set_zlabel('CO2')\n",
        "ax.set_title('Estimated Linear Model')\n",
        "\n",
        "# Show the plot\n",
        "plt.show()\n"
      ]
    },
    {
      "cell_type": "code",
      "execution_count": null,
      "metadata": {
        "id": "szP6b1KlFqBE"
      },
      "outputs": [],
      "source": [
        "import plotly.graph_objects as go\n",
        "\n",
        "# Create the 3D plot\n",
        "fig = go.Figure()\n",
        "\n",
        "# Add the data points to the plot\n",
        "fig.add_trace(go.Scatter3d(x=X['ENGINESIZE'], y=X['CYLINDERS'], z=y, mode='markers', marker=dict(color='blue')))\n",
        "\n",
        "# Add the estimated plane to the plot\n",
        "fig.add_trace(go.Surface(x=X1, y=X2, z=Y, opacity=0.5, colorscale='Viridis'))\n",
        "\n",
        "# Update the layout of the plot\n",
        "fig.update_layout(scene=dict(xaxis_title='ENGINESIZE', yaxis_title='CYLINDERS', zaxis_title='CO2'))\n",
        "\n",
        "# Show the plot\n",
        "fig.show()\n"
      ]
    }
  ],
  "metadata": {
    "hide_input": false,
    "kernelspec": {
      "display_name": "Python 3",
      "language": "python",
      "name": "python3"
    },
    "language_info": {
      "codemirror_mode": {
        "name": "ipython",
        "version": 3
      },
      "file_extension": ".py",
      "mimetype": "text/x-python",
      "name": "python",
      "nbconvert_exporter": "python",
      "pygments_lexer": "ipython3",
      "version": "3.8.5"
    },
    "colab": {
      "provenance": [],
      "include_colab_link": true
    }
  },
  "nbformat": 4,
  "nbformat_minor": 0
}